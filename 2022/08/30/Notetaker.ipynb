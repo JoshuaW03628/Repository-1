{
 "cells": [
  {
   "cell_type": "markdown",
   "metadata": {},
   "source": [
    "---\n",
    "toc: false\n",
    "layout: post\n",
    "description: The post for Dict./Title\n",
    "categories: [markdown]\n",
    "title: Formatting for Titles/Dictionary\n",
    "---\n",
    "# Format Code to Run This:\n",
    "## Define an empty List called InfoDb\n",
    "InfoDb = []\n",
    "\n",
    "## Append to List a Dictionary of key/values related to a person and cars\n",
    "InfoDb.append({\n",
    "    \"FirstName\": \"Josh\",\n",
    "    \"LastName\": \"Williams\",\n",
    "    \"DOB\": \"January 6\",\n",
    "    \"Residence\": \"San Diego\",\n",
    "    \"Email\": \"joshuawilliams52006@gmail.com\",\n",
    "    \"Owns_Cars\": [\"2011-Nissan Versa\"],\n",
    "     \"Favorite Games\": [\"Apex-Legends\"]\n",
    "})\n",
    "\n",
    "## Append to List a 2nd Dictionary of key/values\n",
    "InfoDb.append({\n",
    "    \"FirstName\": \"Ryan\",\n",
    "    \"LastName\": \"Mcweeny\",\n",
    "    \"DOB\": \"March 27\",\n",
    "    \"Residence\": \"San Diego\",\n",
    "    \"Email\": \"N/A\",\n",
    "    \"Owns_Cars\": [\"Lamborghini\"],\n",
    "    \"Favorite_Show\": [\"CocoMelon\"]\n",
    "})\n",
    "\n",
    "## Print the data structure\n",
    "print(InfoDb)\n",
    "\n",
    "\n",
    "# Lets Make This Look Nicer\n",
    "\n",
    "## given and index this will print InfoDb content\n",
    "def print_data(d_rec):\n",
    "    print(d_rec[\"FirstName\"], d_rec[\"LastName\"])  # using comma puts space between values\n",
    "    print(\"\\t\", \"Residence:\", d_rec[\"Residence\"]) # \\t is a tab indent\n",
    "    print(\"\\t\", \"Birth Day:\", d_rec[\"DOB\"])\n",
    "    print(\"\\t\", \"Cars: \", end=\"\")  # end=\"\" make sure no return occurs\n",
    "    print(\", \".join(d_rec[\"Owns_Cars\"]))  # join allows printing a string list with separator\n",
    "    print()\n",
    "\n",
    "\n",
    "## for loop iterates on length of InfoDb\n",
    "def for_loop():\n",
    "    print(\"For loop output\\n\")\n",
    "    for record in InfoDb:\n",
    "        print_data(record)\n",
    "\n",
    "for_loop()\n"
   ]
  },
  {
   "cell_type": "code",
   "execution_count": 31,
   "metadata": {},
   "outputs": [
    {
     "name": "stdout",
     "output_type": "stream",
     "text": [
      "[{'FirstName': 'Josh', 'LastName': 'Williams', 'MiddleName': 'Benjamin', 'DOB': 'January 6', 'Residence': 'San Diego', 'Email': 'joshuawilliams52006@gmail.com', 'Owns_Cars': ['2011-Nissan Versa'], 'Favorite_Show': ['SpongeBob'], 'Favorite_Games': ['Apex-Legends']}, {'FirstName': 'Ryan', 'LastName': 'Mcweeny', 'MiddleName': 'Robert', 'DOB': 'March 27', 'Residence': 'San Diego', 'Email': 'N/A', 'Owns_Cars': ['Lamborghini'], 'Favorite_Show': ['CocoMelon'], 'Favorite_Games': ['Fortnite']}]\n"
     ]
    }
   ],
   "source": [
    "# Define an empty List called InfoDb\n",
    "InfoDb = []\n",
    "\n",
    "# Append to List a Dictionary of key/values related to a person and cars\n",
    "InfoDb.append({\n",
    "    \"FirstName\": \"Josh\",\n",
    "    \"LastName\": \"Williams\",\n",
    "    \"MiddleName\": \"Benjamin\",\n",
    "    \"DOB\": \"January 6\",\n",
    "    \"Residence\": \"San Diego\",\n",
    "    \"Email\": \"joshuawilliams52006@gmail.com\",\n",
    "    \"Owns_Cars\": [\"2011-Nissan Versa\"],\n",
    "    \"Favorite_Show\": [\"SpongeBob\"],\n",
    "    \"Favorite_Games\": [\"Apex-Legends\"]\n",
    "})\n",
    "\n",
    "# Append to List a 2nd Dictionary of key/values\n",
    "InfoDb.append({\n",
    "    \"FirstName\": \"Ryan\",\n",
    "    \"LastName\": \"Mcweeny\",\n",
    "    \"MiddleName\": \"Robert\",\n",
    "    \"DOB\": \"March 27\",\n",
    "    \"Residence\": \"San Diego\",\n",
    "    \"Email\": \"N/A\",\n",
    "    \"Owns_Cars\": [\"Lamborghini\"],\n",
    "    \"Favorite_Show\": [\"CocoMelon\"],\n",
    "    \"Favorite_Games\": [\"Fortnite\"]\n",
    "})\n",
    "\n",
    "# Print the data structure\n",
    "print(InfoDb)"
   ]
  },
  {
   "cell_type": "code",
   "execution_count": 32,
   "metadata": {},
   "outputs": [
    {
     "name": "stdout",
     "output_type": "stream",
     "text": [
      "For loop output\n",
      "\n",
      "Josh Benjamin Williams\n",
      "\t Residence: San Diego\n",
      "\t Birth Day: January 6\n",
      "\t Cars: 2011-Nissan Versa\n",
      "\t Show: SpongeBob\n",
      "\t Games: Apex-Legends\n",
      "Ryan Robert Mcweeny\n",
      "\t Residence: San Diego\n",
      "\t Birth Day: March 27\n",
      "\t Cars: Lamborghini\n",
      "\t Show: CocoMelon\n",
      "\t Games: Fortnite\n"
     ]
    }
   ],
   "source": [
    "# given and index this will print InfoDb content\n",
    "def print_data(d_rec):\n",
    "    print(d_rec[\"FirstName\"], d_rec[\"MiddleName\"], d_rec[\"LastName\"])  # using comma puts space between values\n",
    "    print(\"\\t\", \"Residence:\", d_rec[\"Residence\"]) # \\t is a tab indent\n",
    "    print(\"\\t\", \"Birth Day:\", d_rec[\"DOB\"])\n",
    "    print(\"\\t\", \"Cars: \", end=\"\")  # end=\"\" make sure no return occurs\n",
    "    print(\", \".join(d_rec[\"Owns_Cars\"]))  # join allows printing a string list with separator\n",
    "    print(\"\\t\", \"Show: \", end=\"\")\n",
    "    print(\", \".join(d_rec[\"Favorite_Show\"]))\n",
    "    print(\"\\t\", \"Games: \", end=\"\")\n",
    "    print(\", \".join(d_rec[\"Favorite_Games\"]))\n",
    "\n",
    "# for loop iterates on length of InfoDb\n",
    "def for_loop():\n",
    "    print(\"For loop output\\n\")\n",
    "    for record in InfoDb:\n",
    "        print_data(record)\n",
    "\n",
    "for_loop()"
   ]
  }
 ],
 "metadata": {
  "kernelspec": {
   "display_name": "Python 3.10.6 64-bit",
   "language": "python",
   "name": "python3"
  },
  "language_info": {
   "codemirror_mode": {
    "name": "ipython",
    "version": 3
   },
   "file_extension": ".py",
   "mimetype": "text/x-python",
   "name": "python",
   "nbconvert_exporter": "python",
   "pygments_lexer": "ipython3",
   "version": "3.10.6"
  },
  "orig_nbformat": 4,
  "vscode": {
   "interpreter": {
    "hash": "b0fa6594d8f4cbf19f97940f81e996739fb7646882a419484c72d19e05852a7e"
   }
  }
 },
 "nbformat": 4,
 "nbformat_minor": 2
}
