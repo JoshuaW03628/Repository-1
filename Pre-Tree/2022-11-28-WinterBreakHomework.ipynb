{
 "cells": [
  {
   "cell_type": "markdown",
   "metadata": {},
   "source": [
    "# 3.1/2"
   ]
  },
  {
   "cell_type": "code",
   "execution_count": 20,
   "metadata": {},
   "outputs": [
    {
     "name": "stdout",
     "output_type": "stream",
     "text": [
      "Take this quiz about Fortnite.\n",
      "What's the best game ever\n",
      "Fortnite\n",
      "Correct, you have  1  points!\n",
      "Who is the best Fortnite player\n",
      "Ninja\n",
      "Correct, you have  2  points!\n",
      "Whats the Fortnite mascot\n",
      "camel\n",
      "Incorrect, the answer was;  A Llama\n",
      "What season did Josh Start Fortnite\n",
      "0\n",
      "Correct, you have  3  points!\n",
      "You have finished the quiz with  3  out of  4  points!\n"
     ]
    }
   ],
   "source": [
    "question = [] # creates empty list\n",
    "\n",
    "question.append({ # adds dictionary with question and answer to list using .append\n",
    "    \"Question\": \"What's the best game ever\",\n",
    "    \"Answer\": \"Fortnite\",\n",
    "})\n",
    "question.append({\n",
    "    \"Question\": \"Who is the best Fortnite player\",\n",
    "    \"Answer\": \"Ninja\",\n",
    "})\n",
    "question.append({\n",
    "    \"Question\": \"Whats the Fortnite mascot\",\n",
    "    \"Answer\": \"A Llama\",\n",
    "})\n",
    "question.append({\n",
    "    \"Question\": \"What season did Josh Start Fortnite\",\n",
    "    \"Answer\": \"0\",\n",
    "})\n",
    "\n",
    "points = 0     # resets point count\n",
    "print(\"Take this quiz about Fortnite.\")\n",
    "\n",
    "for i in question: # for loop repeats every time an answer is given\n",
    "    print(i[\"Question\"])\n",
    "    response = input(i[\"Question\"])\n",
    "    print(response)\n",
    "    \n",
    "    if response == i[\"Answer\"]:\n",
    "        points += 1\n",
    "        print(\"Correct, you have \", points, \" points!\")\n",
    "    else:\n",
    "        print(\"Incorrect, the answer was; \", i[\"Answer\"])\n",
    "\n",
    "print(\"You have finished the quiz with \", points, \" out of \", len(question), \" points!\")"
   ]
  },
  {
   "cell_type": "markdown",
   "metadata": {},
   "source": [
    "# 3.3/4"
   ]
  },
  {
   "cell_type": "code",
   "execution_count": 22,
   "metadata": {},
   "outputs": [
    {
     "name": "stdout",
     "output_type": "stream",
     "text": [
      "20.4\n"
     ]
    }
   ],
   "source": [
    "# Set Variable\n",
    "Num1 = 50\n",
    "# 50/9 = 5 Remainder 5 ------ take remainder 5  and + 15 = 20\n",
    "Num2 = Num1 % 9 + 15\n",
    "# #3 = 20/50 + 40 = 40.4 \n",
    "Num3 = Num2 / Num1 + ( Num2 * 2 )\n",
    "# #4 = 40.4 + 50 / 5 .  90.4/5 - 10 = 40.4\n",
    "Num4 = Num3 + Num1 / 5 - 10\n",
    "# 40.4 - 20 = 20.4\n",
    "Result = Num4 - Num2\n",
    "\n",
    "print(Result)"
   ]
  },
  {
   "cell_type": "code",
   "execution_count": 23,
   "metadata": {},
   "outputs": [
    {
     "name": "stdout",
     "output_type": "stream",
     "text": [
      "0\n"
     ]
    }
   ],
   "source": [
    "# Set Variable\n",
    "Num1 = 10\n",
    "# 10/3 = 3 R 1 ------- 1 * 4 = 4\n",
    "Num2 = Num1 % 3 * 4\n",
    "# num 1 = 4\n",
    "Num1 = Num2\n",
    "# num 3 = 4*3 = 12\n",
    "Num3 = Num1 * 3\n",
    "# Result = 12/2 ----- 6 R 0 -- = 0\n",
    "Result = Num3 % 2\n",
    "\n",
    "print(Result)"
   ]
  },
  {
   "cell_type": "code",
   "execution_count": 21,
   "metadata": {},
   "outputs": [
    {
     "name": "stdout",
     "output_type": "stream",
     "text": [
      "17\n"
     ]
    }
   ],
   "source": [
    "# set variables\n",
    "valueA = 4\n",
    "valueB = 90\n",
    "valueC = 17\n",
    "# Value B = 17 - 4 = 13\n",
    "valueB = valueC - valueA\n",
    "# Val A = 4 * 10 = 40\n",
    "valueA = valueA * 10\n",
    "# Value b = 13, 13>10 ---- Value C = 17\n",
    "if valueB > 10:\n",
    "    print(valueC)"
   ]
  },
  {
   "cell_type": "code",
   "execution_count": 24,
   "metadata": {},
   "outputs": [
    {
     "name": "stdout",
     "output_type": "stream",
     "text": [
      "straightbrownshort\n"
     ]
    }
   ],
   "source": [
    "type = \"curly\"\n",
    "color = \"brown\"\n",
    "length = \"short\"\n",
    "# switches type to straight hair since it comes later, code goes from top to bottom,\n",
    "# if i switched it to curly it would be curlybrownshort.\n",
    "type = \"straight\"\n",
    "hair = type + color + length\n",
    "print(hair)"
   ]
  },
  {
   "cell_type": "code",
   "execution_count": 6,
   "metadata": {},
   "outputs": [
    {
     "name": "stdout",
     "output_type": "stream",
     "text": [
      "Mr.Mort is Super  handsome.\n"
     ]
    }
   ],
   "source": [
    "Noun = \"Mr.Mort\" \n",
    "Adjective = \"handsome\" \n",
    "Adjective2 = \"Super\" \n",
    "Verb = \"is\" \n",
    "abrev = Noun[0:7] \n",
    "yoda = abrev + \" \" + Verb + \" \" + Adjective2 + \" \" + \" \" + Adjective + \".\"\n",
    "print(yoda)\n",
    " "
   ]
  },
  {
   "cell_type": "code",
   "execution_count": 8,
   "metadata": {},
   "outputs": [
    {
     "name": "stdout",
     "output_type": "stream",
     "text": [
      "cookie has 4.5 and the second cookie has 225\n"
     ]
    }
   ],
   "source": [
    "cookie = \"chocolate\" \n",
    "cookie2 = \"rasin\" \n",
    "len1 = len(cookie) / 2 # Calculated\n",
    "len2 = len(cookie2) * 45 \n",
    "vote1 = (cookie, \"vote\", len2) \n",
    "vote2 = (cookie2, \"vote\", len1) \n",
    "votes = \"cookie has \" + str(len1) + \" and the second cookie has \" + str(len2)\n",
    "print(votes)  "
   ]
  }
 ],
 "metadata": {
  "kernelspec": {
   "display_name": "Python 3.9.12 ('base')",
   "language": "python",
   "name": "python3"
  },
  "language_info": {
   "codemirror_mode": {
    "name": "ipython",
    "version": 3
   },
   "file_extension": ".py",
   "mimetype": "text/x-python",
   "name": "python",
   "nbconvert_exporter": "python",
   "pygments_lexer": "ipython3",
   "version": "3.9.12"
  },
  "orig_nbformat": 4,
  "vscode": {
   "interpreter": {
    "hash": "fa0fc083a9a7b25dab36cbe71fb89b2f1907d4eced1698b208dea6977346b521"
   }
  }
 },
 "nbformat": 4,
 "nbformat_minor": 2
}
