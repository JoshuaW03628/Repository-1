{
 "cells": [
  {
   "attachments": {},
   "cell_type": "markdown",
   "metadata": {},
   "source": [
    "#  4.3 Hacks\n",
    ">  Computer Output, Timing, and Usage\n",
    "- toc: true\n",
    "- categories: [Notebooks]\n",
    "- week: 26"
   ]
  },
  {
   "attachments": {},
   "cell_type": "markdown",
   "metadata": {},
   "source": [
    "![Agile Manifesto](/Users/josh/Repository-1/images/Example_1.png)"
   ]
  },
  {
   "attachments": {},
   "cell_type": "markdown",
   "metadata": {},
   "source": [
    "I think that it would be 50 seconds, I say this because the largest value of process time is 50 seconds, if the computers are running on parallel processing then it would take the longest time since all are running simultaniously."
   ]
  },
  {
   "attachments": {},
   "cell_type": "markdown",
   "metadata": {},
   "source": [
    "![Agile Manifesto](/Users/josh/Repository-1/images/Example_2.png)"
   ]
  },
  {
   "attachments": {},
   "cell_type": "markdown",
   "metadata": {},
   "source": [
    "If you run it with only 1 after the other it will inevitably take 70 seconds however if you run duplicate processors the minimum amount of time it will take is 45 seconds, because of process B"
   ]
  },
  {
   "attachments": {},
   "cell_type": "markdown",
   "metadata": {},
   "source": [
    "> Data Structures.  Build a List Comprehension example\n",
    "- list = [calc(item) for item in items]"
   ]
  },
  {
   "cell_type": "code",
   "execution_count": 4,
   "metadata": {},
   "outputs": [
    {
     "name": "stdout",
     "output_type": "stream",
     "text": [
      "[0.31, 0.33, 0.372, 0.301, 0.365]\n"
     ]
    }
   ],
   "source": [
    "# Example NBA player stats\n",
    "nba_players = [\n",
    "    {'name': 'LeBron James', 'team': 'LAL', 'points': 25.4, 'rebounds': 7.9, 'assists': 7.9},\n",
    "    {'name': 'Kevin Durant', 'team': 'BKN', 'points': 27.1, 'rebounds': 7.1, 'assists': 5.9},\n",
    "    {'name': 'Steph Curry', 'team': 'GSW', 'points': 30.5, 'rebounds': 5.5, 'assists': 5.9},\n",
    "    {'name': 'James Harden', 'team': 'BKN', 'points': 24.7, 'rebounds': 8.5, 'assists': 11.0},\n",
    "    {'name': 'Joel Embiid', 'team': 'PHI', 'points': 29.9, 'rebounds': 11.5, 'assists': 3.3}\n",
    "]\n",
    "\n",
    "# Define a function to calculate PPG\n",
    "def calc_ppg(player):\n",
    "    return player['points'] / 82 # Assuming 82 games per season\n",
    "\n",
    "# Use a list comprehension to calculate PPG for each player\n",
    "ppg_list = [calc_ppg(player) for player in nba_players]\n",
    "\n",
    "\n",
    "# Define a function to calculate PPG and round to 3 digits\n",
    "def calc_ppg(player):\n",
    "    return round(player['points'] / 82, 3) # Assuming 82 games per season, round to 3 digits\n",
    "\n",
    "ppg_list = [calc_ppg(player) for player in nba_players]\n",
    "print(ppg_list)\n",
    "# Output: [0.309, 0.331, 0.371, 0.302, 0.365]"
   ]
  }
 ],
 "metadata": {
  "kernelspec": {
   "display_name": "base",
   "language": "python",
   "name": "python3"
  },
  "language_info": {
   "codemirror_mode": {
    "name": "ipython",
    "version": 3
   },
   "file_extension": ".py",
   "mimetype": "text/x-python",
   "name": "python",
   "nbconvert_exporter": "python",
   "pygments_lexer": "ipython3",
   "version": "3.9.12"
  },
  "orig_nbformat": 4
 },
 "nbformat": 4,
 "nbformat_minor": 2
}
