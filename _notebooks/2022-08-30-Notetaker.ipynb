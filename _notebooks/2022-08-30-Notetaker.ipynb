{
 "cells": [
  {
   "cell_type": "markdown",
   "metadata": {},
   "source": [
    "# NoteTaker"
   ]
  },
  {
   "cell_type": "code",
   "execution_count": 1,
   "metadata": {},
   "outputs": [
    {
     "name": "stdout",
     "output_type": "stream",
     "text": [
      "[{'FirstName': 'Josh', 'LastName': 'Williams', 'MiddleName': 'Benjamin', 'DOB': 'January 6', 'Residence': 'San Diego', 'Email': 'joshuawilliams52006@gmail.com', 'Owns_Cars': ['2011-Nissan Versa'], 'Favorite_Show': ['SpongeBob'], 'Favorite_Games': ['Apex-Legends']}, {'FirstName': 'Ryan', 'LastName': 'Mcweeny', 'MiddleName': 'Robert', 'DOB': 'March 27', 'Residence': 'San Diego', 'Email': 'N/A', 'Owns_Cars': ['Lamborghini'], 'Favorite_Show': ['CocoMelon'], 'Favorite_Games': ['Fortnite']}]\n"
     ]
    }
   ],
   "source": [
    "# Define an empty List called InfoDb\n",
    "InfoDb = []\n",
    "\n",
    "# Append to List a Dictionary of key/values related to a person and cars\n",
    "InfoDb.append({\n",
    "    \"FirstName\": \"Josh\",\n",
    "    \"LastName\": \"Williams\",\n",
    "    \"MiddleName\": \"Benjamin\",\n",
    "    \"DOB\": \"January 6\",\n",
    "    \"Residence\": \"San Diego\",\n",
    "    \"Email\": \"joshuawilliams52006@gmail.com\",\n",
    "    \"Owns_Cars\": [\"2011-Nissan Versa\"],\n",
    "    \"Favorite_Show\": [\"SpongeBob\"],\n",
    "    \"Favorite_Games\": [\"Apex-Legends\"]\n",
    "})\n",
    "\n",
    "# Append to List a 2nd Dictionary of key/values\n",
    "InfoDb.append({\n",
    "    \"FirstName\": \"Ryan\",\n",
    "    \"LastName\": \"Mcweeny\",\n",
    "    \"MiddleName\": \"Robert\",\n",
    "    \"DOB\": \"March 27\",\n",
    "    \"Residence\": \"San Diego\",\n",
    "    \"Email\": \"N/A\",\n",
    "    \"Owns_Cars\": [\"2016 GMC Acadia\"],\n",
    "    \"Favorite_Show\": [\"SpongeBob\"],\n",
    "    \"Favorite_Games\": [\"Minecraft\"]\n",
    "})\n",
    "\n",
    "# Print the data structure\n",
    "print(InfoDb)"
   ]
  },
  {
   "cell_type": "code",
   "execution_count": 2,
   "metadata": {},
   "outputs": [
    {
     "name": "stdout",
     "output_type": "stream",
     "text": [
      "For loop output\n",
      "\n",
      "Josh Benjamin Williams\n",
      "\t Residence: San Diego\n",
      "\t Birth Day: January 6\n",
      "\t Cars: 2011-Nissan Versa\n",
      "\t Show: SpongeBob\n",
      "\t Games: Apex-Legends\n",
      "Ryan Robert Mcweeny\n",
      "\t Residence: San Diego\n",
      "\t Birth Day: March 27\n",
      "\t Cars: Lamborghini\n",
      "\t Show: CocoMelon\n",
      "\t Games: Fortnite\n"
     ]
    }
   ],
   "source": [
    "# given and index this will print InfoDb content\n",
    "def print_data(d_rec):\n",
    "    print(d_rec[\"FirstName\"], d_rec[\"MiddleName\"], d_rec[\"LastName\"])  # using comma puts space between values\n",
    "    print(\"\\t\", \"Residence:\", d_rec[\"Residence\"]) # \\t is a tab indent\n",
    "    print(\"\\t\", \"Birth Day:\", d_rec[\"DOB\"])\n",
    "    print(\"\\t\", \"Cars: \", end=\"\")  # end=\"\" make sure no return occurs\n",
    "    print(\", \".join(d_rec[\"Owns_Cars\"]))  # join allows printing a string list with separator\n",
    "    print(\"\\t\", \"Show: \", end=\"\")\n",
    "    print(\", \".join(d_rec[\"Favorite_Show\"]))\n",
    "    print(\"\\t\", \"Games: \", end=\"\")\n",
    "    print(\", \".join(d_rec[\"Favorite_Games\"]))\n",
    "\n",
    "# for loop iterates on length of InfoDb\n",
    "def for_loop():\n",
    "    print(\"For loop output\\n\")\n",
    "    for record in InfoDb:\n",
    "        print_data(record)\n",
    "\n",
    "for_loop()"
   ]
  },
  {
   "cell_type": "code",
   "execution_count": 3,
   "metadata": {},
   "outputs": [
    {
     "name": "stdout",
     "output_type": "stream",
     "text": [
      "\n",
      "Recursive loop output:\n",
      "\n",
      "Josh Benjamin Williams\n",
      "\t Residence: San Diego\n",
      "\t Birth Day: January 6\n",
      "\t Cars: 2011-Nissan Versa\n",
      "\t Show: SpongeBob\n",
      "\t Games: Apex-Legends\n",
      "Ryan Robert Mcweeny\n",
      "\t Residence: San Diego\n",
      "\t Birth Day: March 27\n",
      "\t Cars: Lamborghini\n",
      "\t Show: CocoMelon\n",
      "\t Games: Fortnite\n"
     ]
    }
   ],
   "source": [
    "def recursive_loop(i):\n",
    "    if i < len(InfoDb):\n",
    "        record = InfoDb[i]\n",
    "        print_data(record)\n",
    "        recursive_loop(i + 1)\n",
    "    return\n",
    "\n",
    "print(\"\\nRecursive loop output:\\n\")\n",
    "recursive_loop(0)"
   ]
  },
  {
   "cell_type": "code",
   "execution_count": 5,
   "metadata": {},
   "outputs": [
    {
     "name": "stdout",
     "output_type": "stream",
     "text": [
      "Take this quiz about planes.\n",
      "Whats the best game ever\n",
      "Fortnite\n",
      "Correct, you have  1  points!\n",
      "Who is the best Fortnite player\n",
      "Ninja\n",
      "Correct, you have  2  points!\n",
      "Whats the fortnite mascot\n",
      "idk\n",
      "Incorrect, the answer was;  A Llama\n",
      "What season did Josh Start Fortnite\n",
      "0\n",
      "Correct, you have  3  points!\n",
      "You have finished the quiz with  3  out of  4  points!\n"
     ]
    }
   ],
   "source": [
    "question = [] # creates empty list\n",
    "\n",
    "question.append({ # adds dictionary with question and answer to list using .append\n",
    "    \"Question\": \"Whats the best game ever\",\n",
    "    \"Answer\": \"Fortnite\",\n",
    "})\n",
    "question.append({\n",
    "    \"Question\": \"Who is the best Fortnite player\",\n",
    "    \"Answer\": \"Ninja\",\n",
    "})\n",
    "question.append({\n",
    "    \"Question\": \"Whats the fortnite mascot\",\n",
    "    \"Answer\": \"A Llama\",\n",
    "})\n",
    "question.append({\n",
    "    \"Question\": \"What season did Josh Start Fortnite\",\n",
    "    \"Answer\": \"0\",\n",
    "})\n",
    "\n",
    "points = 0\n",
    "print(\"Take this quiz about planes.\")\n",
    "\n",
    "for i in question: # for loop repeats every time an answer is given\n",
    "    print(i[\"Question\"])\n",
    "    response = input(i[\"Question\"])\n",
    "    print(response)\n",
    "    \n",
    "    if response == i[\"Answer\"]:\n",
    "        points += 1\n",
    "        print(\"Correct, you have \", points, \" points!\")\n",
    "    else:\n",
    "        print(\"Incorrect, the answer was; \", i[\"Answer\"])\n",
    "\n",
    "print(\"You have finished the quiz with \", points, \" out of \", len(question), \" points!\")"
   ]
  }
 ],
 "metadata": {
  "kernelspec": {
   "display_name": "Python 3.10.6 64-bit",
   "language": "python",
   "name": "python3"
  },
  "language_info": {
   "codemirror_mode": {
    "name": "ipython",
    "version": 3
   },
   "file_extension": ".py",
   "mimetype": "text/x-python",
   "name": "python",
   "nbconvert_exporter": "python",
   "pygments_lexer": "ipython3",
   "version": "3.10.6"
  },
  "orig_nbformat": 4,
  "vscode": {
   "interpreter": {
    "hash": "b0fa6594d8f4cbf19f97940f81e996739fb7646882a419484c72d19e05852a7e"
   }
  }
 },
 "nbformat": 4,
 "nbformat_minor": 2
}
