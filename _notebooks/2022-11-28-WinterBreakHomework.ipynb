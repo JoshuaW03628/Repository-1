{
 "cells": [
  {
   "cell_type": "markdown",
   "metadata": {},
   "source": [
    "# Pre Tree Homework\n",
    "> This is a ipynb full of homework\n",
    "- toc: true\n",
    "- branch: master\n",
    "- badges: true\n",
    "- comments: true\n",
    "- author: Josh Williams\n",
    "- permalink: /notebooks/Pre-Tree-Hw\n",
    "- categories: [Pre-Tree]"
   ]
  },
  {
   "cell_type": "markdown",
   "metadata": {},
   "source": [
    "# 3.1/2"
   ]
  },
  {
   "cell_type": "code",
   "execution_count": 20,
   "metadata": {
    "vscode": {
     "languageId": "javascript"
    }
   },
   "outputs": [
    {
     "name": "stdout",
     "output_type": "stream",
     "text": [
      "Take this quiz about Fortnite.\n",
      "What's the best game ever\n",
      "Fortnite\n",
      "Correct, you have  1  points!\n",
      "Who is the best Fortnite player\n",
      "Ninja\n",
      "Correct, you have  2  points!\n",
      "Whats the Fortnite mascot\n",
      "camel\n",
      "Incorrect, the answer was;  A Llama\n",
      "What season did Josh Start Fortnite\n",
      "0\n",
      "Correct, you have  3  points!\n",
      "You have finished the quiz with  3  out of  4  points!\n"
     ]
    }
   ],
   "source": [
    "question = [] # creates empty list\n",
    "\n",
    "question.append({ # adds dictionary with question and answer to list using .append\n",
    "    \"Question\": \"What's the best game ever\",\n",
    "    \"Answer\": \"Fortnite\",\n",
    "})\n",
    "question.append({\n",
    "    \"Question\": \"Who is the best Fortnite player\",\n",
    "    \"Answer\": \"Ninja\",\n",
    "})\n",
    "question.append({\n",
    "    \"Question\": \"Whats the Fortnite mascot\",\n",
    "    \"Answer\": \"A Llama\",\n",
    "})\n",
    "question.append({\n",
    "    \"Question\": \"What season did Josh Start Fortnite\",\n",
    "    \"Answer\": \"0\",\n",
    "})\n",
    "\n",
    "points = 0     # resets point count\n",
    "print(\"Take this quiz about Fortnite.\")\n",
    "\n",
    "for i in question: # for loop repeats every time an answer is given\n",
    "    print(i[\"Question\"])\n",
    "    response = input(i[\"Question\"])\n",
    "    print(response)\n",
    "    \n",
    "    if response == i[\"Answer\"]:\n",
    "        points += 1\n",
    "        print(\"Correct, you have \", points, \" points!\")\n",
    "    else:\n",
    "        print(\"Incorrect, the answer was; \", i[\"Answer\"])\n",
    "\n",
    "print(\"You have finished the quiz with \", points, \" out of \", len(question), \" points!\")"
   ]
  },
  {
   "cell_type": "markdown",
   "metadata": {},
   "source": [
    "# 3.3/4"
   ]
  },
  {
   "cell_type": "code",
   "execution_count": 22,
   "metadata": {
    "vscode": {
     "languageId": "javascript"
    }
   },
   "outputs": [
    {
     "name": "stdout",
     "output_type": "stream",
     "text": [
      "20.4\n"
     ]
    }
   ],
   "source": [
    "# Set Variable\n",
    "Num1 = 50\n",
    "# 50/9 = 5 Remainder 5 ------ take remainder 5  and + 15 = 20\n",
    "Num2 = Num1 % 9 + 15\n",
    "# #3 = 20/50 + 40 = 40.4 \n",
    "Num3 = Num2 / Num1 + ( Num2 * 2 )\n",
    "# #4 = 40.4 + 50 / 5 .  90.4/5 - 10 = 40.4\n",
    "Num4 = Num3 + Num1 / 5 - 10\n",
    "# 40.4 - 20 = 20.4\n",
    "Result = Num4 - Num2\n",
    "\n",
    "print(Result)"
   ]
  },
  {
   "cell_type": "code",
   "execution_count": 23,
   "metadata": {
    "vscode": {
     "languageId": "javascript"
    }
   },
   "outputs": [
    {
     "name": "stdout",
     "output_type": "stream",
     "text": [
      "0\n"
     ]
    }
   ],
   "source": [
    "# Set Variable\n",
    "Num1 = 10\n",
    "# 10/3 = 3 R 1 ------- 1 * 4 = 4\n",
    "Num2 = Num1 % 3 * 4\n",
    "# num 1 = 4\n",
    "Num1 = Num2\n",
    "# num 3 = 4*3 = 12\n",
    "Num3 = Num1 * 3\n",
    "# Result = 12/2 ----- 6 R 0 -- = 0\n",
    "Result = Num3 % 2\n",
    "\n",
    "print(Result)"
   ]
  },
  {
   "cell_type": "code",
   "execution_count": 21,
   "metadata": {
    "vscode": {
     "languageId": "javascript"
    }
   },
   "outputs": [
    {
     "name": "stdout",
     "output_type": "stream",
     "text": [
      "17\n"
     ]
    }
   ],
   "source": [
    "# set variables\n",
    "valueA = 4\n",
    "valueB = 90\n",
    "valueC = 17\n",
    "# Value B = 17 - 4 = 13\n",
    "valueB = valueC - valueA\n",
    "# Val A = 4 * 10 = 40\n",
    "valueA = valueA * 10\n",
    "# Value b = 13, 13>10 ---- Value C = 17\n",
    "if valueB > 10:\n",
    "    print(valueC)"
   ]
  },
  {
   "cell_type": "code",
   "execution_count": 24,
   "metadata": {
    "vscode": {
     "languageId": "javascript"
    }
   },
   "outputs": [
    {
     "name": "stdout",
     "output_type": "stream",
     "text": [
      "straightbrownshort\n"
     ]
    }
   ],
   "source": [
    "type = \"curly\"\n",
    "color = \"brown\"\n",
    "length = \"short\"\n",
    "# switches type to straight hair since it comes later, code goes from top to bottom,\n",
    "# if i switched it to curly it would be curlybrownshort.\n",
    "type = \"straight\"\n",
    "hair = type + color + length\n",
    "print(hair)"
   ]
  },
  {
   "cell_type": "code",
   "execution_count": 6,
   "metadata": {
    "vscode": {
     "languageId": "javascript"
    }
   },
   "outputs": [
    {
     "name": "stdout",
     "output_type": "stream",
     "text": [
      "Mr.Mort is Super  handsome.\n"
     ]
    }
   ],
   "source": [
    "Noun = \"Mr.Mort\" \n",
    "Adjective = \"handsome\" \n",
    "Adjective2 = \"Super\" \n",
    "Verb = \"is\" \n",
    "abrev = Noun[0:7] \n",
    "yoda = abrev + \" \" + Verb + \" \" + Adjective2 + \" \" + \" \" + Adjective + \".\"\n",
    "print(yoda)\n",
    " "
   ]
  },
  {
   "cell_type": "code",
   "execution_count": 8,
   "metadata": {
    "vscode": {
     "languageId": "javascript"
    }
   },
   "outputs": [
    {
     "name": "stdout",
     "output_type": "stream",
     "text": [
      "cookie has 4.5 and the second cookie has 225\n"
     ]
    }
   ],
   "source": [
    "cookie = \"chocolate\" \n",
    "cookie2 = \"rasin\" \n",
    "len1 = len(cookie) / 2 # Calculated\n",
    "len2 = len(cookie2) * 45 \n",
    "vote1 = (cookie, \"vote\", len2) \n",
    "vote2 = (cookie2, \"vote\", len1) \n",
    "votes = \"cookie has \" + str(len1) + \" and the second cookie has \" + str(len2)\n",
    "print(votes)  "
   ]
  },
  {
   "cell_type": "markdown",
   "metadata": {},
   "source": [
    "## Key"
   ]
  },
  {
   "cell_type": "code",
   "execution_count": 1,
   "metadata": {
    "vscode": {
     "languageId": "javascript"
    }
   },
   "outputs": [
    {
     "name": "stdout",
     "output_type": "stream",
     "text": [
      "Very handsome Mr.Mort is.\n"
     ]
    }
   ],
   "source": [
    "Noun = \"Mr.Mort\"\n",
    "Adjective = \"handsome\"\n",
    "Adjective2 = \"Very\"\n",
    "Verb = \"is\"\n",
    "abrev = Noun[:7]\n",
    "yoda = Adjective2 + \" \" + Adjective + \" \" + abrev + \" \" + Verb + \".\"\n",
    "\n",
    "print(yoda)"
   ]
  },
  {
   "cell_type": "code",
   "execution_count": 2,
   "metadata": {
    "vscode": {
     "languageId": "javascript"
    }
   },
   "outputs": [
    {
     "name": "stdout",
     "output_type": "stream",
     "text": [
      "choclate vote 225 rasin vote 4.0\n"
     ]
    }
   ],
   "source": [
    "cookie = \"choclate\"\n",
    "\n",
    "cookie2 = \"rasin\"\n",
    "\n",
    "len1 = len(cookie) / 2\n",
    "\n",
    "len2 = len(cookie2) * 45\n",
    "\n",
    "vote1 = (str(cookie) + \" vote \" + str(len2))\n",
    "\n",
    "vote2 = (str(cookie2) + \" vote \" + str(len1))\n",
    "\n",
    "votes = (str(vote1) + \" \" + str(vote2))\n",
    "\n",
    "print(votes)"
   ]
  },
  {
   "cell_type": "markdown",
   "metadata": {},
   "source": [
    "# 3.5-3.7 Homework"
   ]
  },
  {
   "cell_type": "code",
   "execution_count": 1,
   "metadata": {
    "vscode": {
     "languageId": "javascript"
    }
   },
   "outputs": [
    {
     "name": "stdout",
     "output_type": "stream",
     "text": [
      "this is a regular product\n"
     ]
    }
   ],
   "source": [
    "product = 25\n",
    "expired = 1\n",
    "if (expired>3)\n",
    "{\n",
    "    console.log(\"this product is no good\")\n",
    "}\n",
    "else\n",
    "{\n",
    "    if (product > 50 )\n",
    "    {\n",
    "    console.log (\"this product is too expensive\")\n",
    "    }\n",
    "    else \n",
    "    {\n",
    "    if (product >= 25)\n",
    "    {\n",
    "    console.log (\"this is a regular product\")\n",
    "    }\n",
    "    else\n",
    "    {\n",
    "      if (product < 25)  console.log (\"this is a cheap product\")\n",
    "    }\n",
    "    }\n",
    "}"
   ]
  },
  {
   "cell_type": "code",
   "execution_count": 3,
   "metadata": {},
   "outputs": [
    {
     "name": "stdout",
     "output_type": "stream",
     "text": [
      "Who the 1st president of the U.S.?\n",
      "a. George Washington\n",
      "b. John Mortensen\n",
      "c. Thomas Jefferson\n",
      "d. Abraham Lincoln\n",
      "Who on the Civil War?\n",
      "a. The Union\n",
      "b. The Confederacy\n",
      "c. The Cornnuts\n",
      "d. Ballerz\n",
      "What President signed the Emancipation Proclemation?\n",
      "a. George Washington\n",
      "b. Thomas Jefferson\n",
      "c. Abraham Lincoln\n",
      "d. Mr.Mort\n",
      "Who's the Best Team?\n",
      "a. TripleAJ\n",
      "b. Lakers\n",
      "c. Celtics\n",
      "d. OKC\n",
      "You got 2 correct answers\n"
     ]
    }
   ],
   "source": [
    "quiz = {\"Who the 1st president of the U.S.?\":[\"a. George Washington\",\"b. John Mortensen\", \"c. Thomas Jefferson\", \"d. Abraham Lincoln\"], \"Who on the Civil War?\":[\"a. The Union\", \"b. The Confederacy\",\"c. The Cornnuts\", \"d. Ballerz\"]\n",
    ", \"What President signed the Emancipation Proclemation?\":[\"a. George Washington\",\"b. Thomas Jefferson\", \"c. Abraham Lincoln\", \"d. Mr.Mort\"], \"Who's the Best Team?\":[\"a. TripleAJ\",\"b. Lakers\", \"c. Celtics\", \"d. OKC\"]}\n",
    "\n",
    "# for the answers, used the question as the key and the multiple choice letter as the value \n",
    "answers = {\"Who the 1st president of the U.S.?\":\"a\", \"Who on the Civil War?\":\"a\", \"What President signed the Emancipation Proclemation?\":\"c\", \"Who's the Best Team?\":\"b\"}\n",
    "count = 0\n",
    "\n",
    "# iterating through the dictonary's keys and values \n",
    "for k,v in quiz.items():\n",
    "\n",
    "# printing the key and it's values \n",
    "    print(k)\n",
    "    print(*v, sep = '\\n')\n",
    "\n",
    "# taking the user input for the answer, entering ab\n",
    "    user_input = input(\"Enter Your Answer\")\n",
    "\n",
    "# comparing that with the answer's value \n",
    "    if(answers.get(k)==user_input):\n",
    "\n",
    "        # incrementing the count \n",
    "     count = count +1\n",
    "\n",
    "# printing the user's score\n",
    "print('You got', count, 'correct answers')  "
   ]
  },
  {
   "cell_type": "markdown",
   "metadata": {},
   "source": [
    "## HW 3.8/3.10"
   ]
  },
  {
   "cell_type": "code",
   "execution_count": 1,
   "metadata": {},
   "outputs": [
    {
     "name": "stdout",
     "output_type": "stream",
     "text": [
      "1 2 3\n",
      "4 5 6\n",
      "7 8 9\n",
      "  0  \n"
     ]
    }
   ],
   "source": [
    "keypad =   [[1, 2, 3],\n",
    "            [4, 5, 6],\n",
    "            [7, 8, 9],\n",
    "            [\" \", 0, \" \"]]\n",
    "\n",
    "def print_matrix3(matrix):\n",
    "    for row in matrix:\n",
    "        print(*row)\n",
    "\n",
    "print_matrix3(keypad)\n"
   ]
  },
  {
   "cell_type": "code",
   "execution_count": 8,
   "metadata": {},
   "outputs": [
    {
     "name": "stdout",
     "output_type": "stream",
     "text": [
      "mort\n",
      "mike\n",
      "oscar\n",
      "romeo\n",
      "tango\n"
     ]
    }
   ],
   "source": [
    "words = [\"alfa\", \"bravo\", \"charlie\", \"delta\", \"echo\", \"foxtrot\", \"golf\", \"hotel\", \"india\", \"juliett\", \"kilo\",\n",
    "\"lima\", \"mike\", \"november\", \"oscar\", \"papa\", \"quebec\", \"romeo\", \"sierra\", \"tango\", \"uniform\", \"victor\", \"whiskey\", \"xray\", \"yankee\", \"zulu\"]\n",
    "\n",
    "inp = input().lower()\n",
    "\n",
    "lengthInp = len(inp)\n",
    "\n",
    "wordStart = []\n",
    "\n",
    "for x in range(len(words)):\n",
    "    wordLetter = words[x]\n",
    "    wordThing = wordLetter[0]\n",
    "    wordStart.append(wordThing)\n",
    "\n",
    "print(inp)\n",
    "\n",
    "for i in range(lengthInp):\n",
    "    j = str(inp)[i]\n",
    "    for y in range(len(wordStart)):\n",
    "        if j == str(wordStart[y]):\n",
    "            print(words[y])"
   ]
  },
  {
   "cell_type": "code",
   "execution_count": 6,
   "metadata": {},
   "outputs": [],
   "source": [
    "keyboard = [[\"`\", 1, 2, 3, 4, 5, 6, 7, 8, 9, 0, \"-\", \"=\"],\n",
    "            [\"Q\", \"W\", \"E\", \"R\", \"T\", \"Y\", \"U\", \"I\", \"O\", \"P\", \"[\", \"]\"],\n",
    "            [\"A\", \"S\", \"D\", \"F\", \"G\", \"H\", \"J\", \"K\", \"L\", \";\", \"'\"],\n",
    "            [\"Z\", \"X\", \"C\", \"V\", \"B\", \"N\", \"M\", \",\", \".\", \"/\", \" \"]]"
   ]
  },
  {
   "cell_type": "code",
   "execution_count": 7,
   "metadata": {},
   "outputs": [
    {
     "name": "stdout",
     "output_type": "stream",
     "text": [
      "I LOVE FORTNITE"
     ]
    }
   ],
   "source": [
    "def print_type(matrix):\n",
    "    inp = input().upper()\n",
    "    for i in range(len(inp)):\n",
    "        j = str(inp)[i]\n",
    "        for row in range(len(matrix)):  # Iterates through each \"row\" of matrix. Row is a dummy variable, it could technically be anything. It iterates through each value of matrix and each value is it's own list. in this syntax the list is stored in \"row\".\n",
    "            for col in range(len(matrix[row])):\n",
    "                if j == str(matrix[row][col]): # Iterates through each value in row. Again col, column, is a dummy variable. Each value in row is stored in coif j == str(keyword[y]):\n",
    "                    print(matrix[row][col], end=\"\") # Same as 1\n",
    "         # Same as 1\n",
    "\n",
    "print_type(keyboard)"
   ]
  }
 ],
 "metadata": {
  "kernelspec": {
   "display_name": "Python 3.9.12 ('base')",
   "language": "python",
   "name": "python3"
  },
  "language_info": {
   "codemirror_mode": {
    "name": "ipython",
    "version": 3
   },
   "file_extension": ".py",
   "mimetype": "text/x-python",
   "name": "python",
   "nbconvert_exporter": "python",
   "pygments_lexer": "ipython3",
   "version": "3.9.12"
  },
  "orig_nbformat": 4,
  "vscode": {
   "interpreter": {
    "hash": "fa0fc083a9a7b25dab36cbe71fb89b2f1907d4eced1698b208dea6977346b521"
   }
  }
 },
 "nbformat": 4,
 "nbformat_minor": 2
}
