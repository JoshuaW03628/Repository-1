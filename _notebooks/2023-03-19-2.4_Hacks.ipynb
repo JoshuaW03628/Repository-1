{
 "cells": [
  {
   "attachments": {},
   "cell_type": "markdown",
   "metadata": {},
   "source": [
    "#  2.4 Hacks\n",
    "> CRUD con Database\n",
    "- toc: true\n",
    "- categories: [Notebooks]\n",
    "- week: 26"
   ]
  },
  {
   "cell_type": "code",
   "execution_count": null,
   "metadata": {},
   "outputs": [],
   "source": [
    "import sqlite3\n",
    "\n",
    "# Create a connection to the SQLite database\n",
    "conn = sqlite3.connect(\"books.db\")\n",
    "\n",
    "# Create a cursor object to interact with the database\n",
    "c = conn.cursor()\n",
    "\n",
    "# Create the books table\n",
    "c.execute(\"\"\"CREATE TABLE books (\n",
    "                id INTEGER PRIMARY KEY,\n",
    "                title TEXT,\n",
    "                author TEXT,\n",
    "                published INTEGER\n",
    "            )\"\"\")\n",
    "\n",
    "# Commit the changes to the database\n",
    "conn.commit()\n",
    "\n",
    "# Close the connection to the database\n",
    "conn.close()\n"
   ]
  },
  {
   "cell_type": "code",
   "execution_count": 27,
   "metadata": {},
   "outputs": [
    {
     "name": "stdout",
     "output_type": "stream",
     "text": [
      "Enter 1 to create a book.\n",
      "Enter 2 to read all books.\n",
      "Enter 3 to read a specific book.\n",
      "Enter 4 to update a book.\n",
      "Enter 5 to delete a book.\n",
      "('Mr.Mort;Comsci', 'Mr.Mort', '2023')\n"
     ]
    }
   ],
   "source": [
    "import sqlite3\n",
    "\n",
    "# Create a connection to the database\n",
    "conn = sqlite3.connect(\"books.db\")\n",
    "c = conn.cursor()\n",
    "\n",
    "# Create the table if it doesn't exist\n",
    "c.execute('''CREATE TABLE IF NOT EXISTS books\n",
    "             (title text, author text, published text)''')\n",
    "\n",
    "def create_book(title, author, published):\n",
    "    c.execute(\"INSERT INTO books (title, author, published) VALUES (?, ?, ?)\", (title, author, published))\n",
    "    conn.commit()\n",
    "    print(\"Book created successfully.\")\n",
    "\n",
    "def read_books():\n",
    "    c.execute(\"SELECT * FROM books\")\n",
    "    rows = c.fetchall()\n",
    "    for row in rows:\n",
    "        print(row)\n",
    "\n",
    "def read_book(title):\n",
    "    c.execute(\"SELECT * FROM books WHERE title=?\", (title,))\n",
    "    row = c.fetchone()\n",
    "    if row:\n",
    "        print(row)\n",
    "    else:\n",
    "        print(\"Book not found.\")\n",
    "\n",
    "def update_book(title, author, published):\n",
    "    c.execute(\"UPDATE books SET author=?, published=? WHERE title=?\", (author, published, title))\n",
    "    conn.commit()\n",
    "    print(\"Book updated successfully.\")\n",
    "\n",
    "def delete_book(title):\n",
    "    c.execute(\"DELETE FROM books WHERE title=?\", (title,))\n",
    "    conn.commit()\n",
    "    print(\"Book deleted successfully.\")\n",
    "\n",
    "# Get user input to decide which function to use\n",
    "print(\"Enter 1 to create a book.\")\n",
    "print(\"Enter 2 to read all books.\")\n",
    "print(\"Enter 3 to read a specific book.\")\n",
    "print(\"Enter 4 to update a book.\")\n",
    "print(\"Enter 5 to delete a book.\")\n",
    "choice = input(\"Choice: \")\n",
    "\n",
    "# Call the appropriate function based on user input\n",
    "if choice == \"1\":\n",
    "    title = input(\"Enter the title: \")\n",
    "    author = input(\"Enter the author: \")\n",
    "    published = input(\"Enter the year published: \")\n",
    "    create_book(title, author, published)\n",
    "elif choice == \"2\":\n",
    "    read_books()\n",
    "elif choice == \"3\":\n",
    "    title = input(\"Enter the title: \")\n",
    "    read_book(title)\n",
    "elif choice == \"4\":\n",
    "    title = input(\"Enter the title: \")\n",
    "    author = input(\"Enter the new author: \")\n",
    "    published = input(\"Enter the new year published: \")\n",
    "    update_book(title, author, published)\n",
    "elif choice == \"5\":\n",
    "    title = input(\"Enter the title: \")\n",
    "    delete_book(title)\n",
    "else:\n",
    "    print(\"Invalid choice.\")\n",
    "\n",
    "# Close the database connection\n",
    "conn.close()\n"
   ]
  }
 ],
 "metadata": {
  "kernelspec": {
   "display_name": "base",
   "language": "python",
   "name": "python3"
  },
  "language_info": {
   "codemirror_mode": {
    "name": "ipython",
    "version": 3
   },
   "file_extension": ".py",
   "mimetype": "text/x-python",
   "name": "python",
   "nbconvert_exporter": "python",
   "pygments_lexer": "ipython3",
   "version": "3.9.12"
  },
  "orig_nbformat": 4
 },
 "nbformat": 4,
 "nbformat_minor": 2
}
