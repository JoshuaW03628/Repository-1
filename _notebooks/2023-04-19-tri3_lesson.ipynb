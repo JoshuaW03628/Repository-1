{
 "cells": [
  {
   "attachments": {},
   "cell_type": "markdown",
   "metadata": {},
   "source": [
    "# Lesson Portion 2\n",
    "Explanation of NumPy and its uses in data analysis\n",
    "Importing NumPy library\n",
    "Creating NumPy arrays and performing basic array operations\n",
    "Example of using NumPy for mathematical operations on data"
   ]
  },
  {
   "cell_type": "code",
   "execution_count": null,
   "metadata": {},
   "outputs": [],
   "source": [
    "import numpy as np\n",
    "\n",
    "# Creating NumPy arrays\n",
    "arr1 = np.array([1, 2, 3, 4, 5])  # 1D array\n",
    "arr2 = np.array([[1, 2, 3], [4, 5, 6]])  # 2D array\n",
    "arr3 = np.zeros((2, 3))  # 2D array with all zeros\n",
    "arr4 = np.random.rand(3, 4)  # 2D array with random values\n",
    "\n",
    "# Basic array operations\n",
    "print(arr1.shape)  # Output: (5,)\n",
    "print(arr2[0, 1])  # Output: 2\n",
    "print(arr3.sum())  # Output: 0.0\n",
    "print(arr4.mean())  # Output: 0.4646692722016484\n",
    "\n",
    "# Mathematical operations using NumPy\n",
    "data = np.array([10, 20, 30, 40, 50])\n",
    "mean = np.mean(data)\n",
    "std_dev = np.std(data)\n",
    "\n",
    "# Z-score normalization using NumPy\n",
    "z_scores = (data - mean) / std_dev\n",
    "print(z_scores)  # Output: [-1.41421356 -0.70710678  0.          0.70710678  1.41421356]\n"
   ]
  }
 ],
 "metadata": {
  "language_info": {
   "name": "python"
  },
  "orig_nbformat": 4
 },
 "nbformat": 4,
 "nbformat_minor": 2
}
