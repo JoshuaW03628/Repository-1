{
 "cells": [
  {
   "attachments": {},
   "cell_type": "markdown",
   "metadata": {},
   "source": [
    "#  Unit 2.4 Jupyter Notebook With Table\n",
    "> using pandas to make a table.\n",
    "- toc: true\n",
    "- categories: [Notebooks]\n",
    "- week: 26"
   ]
  },
  {
   "attachments": {},
   "cell_type": "markdown",
   "metadata": {},
   "source": [
    "## Jupyter Notebook With Table."
   ]
  },
  {
   "cell_type": "code",
   "execution_count": 1,
   "metadata": {},
   "outputs": [
    {
     "name": "stdout",
     "output_type": "stream",
     "text": [
      "                  name  year_start  year_end position height  weight  \\\n",
      "0       Alaa Abdelnaby        1991      1995      F-C   6-10   240.0   \n",
      "1      Zaid Abdul-Aziz        1969      1978      C-F    6-9   235.0   \n",
      "2  Kareem Abdul-Jabbar        1970      1989        C    7-2   225.0   \n",
      "3   Mahmoud Abdul-Rauf        1991      2001        G    6-1   162.0   \n",
      "4    Tariq Abdul-Wahad        1998      2003        F    6-6   223.0   \n",
      "\n",
      "         birth_date                                college  \n",
      "0     June 24, 1968                        Duke University  \n",
      "1     April 7, 1946                  Iowa State University  \n",
      "2    April 16, 1947  University of California, Los Angeles  \n",
      "3     March 9, 1969             Louisiana State University  \n",
      "4  November 3, 1974              San Jose State University  \n"
     ]
    }
   ],
   "source": [
    "import pandas as pd\n",
    "\n",
    "# Read CSV file into a Pandas DataFrame\n",
    "df = pd.read_csv('/Users/josh/Downloads/archive/player_data.csv')\n",
    "\n",
    "# Display the DataFrame\n",
    "print(df.head())"
   ]
  },
  {
   "cell_type": "code",
   "execution_count": 2,
   "metadata": {},
   "outputs": [
    {
     "name": "stdout",
     "output_type": "stream",
     "text": [
      "        year_start     year_end       weight\n",
      "count  4550.000000  4550.000000  4544.000000\n",
      "mean   1985.076264  1989.272527   208.908011\n",
      "std      20.974188    21.874761    26.268662\n",
      "min    1947.000000  1947.000000   114.000000\n",
      "25%    1969.000000  1973.000000   190.000000\n",
      "50%    1986.000000  1992.000000   210.000000\n",
      "75%    2003.000000  2009.000000   225.000000\n",
      "max    2018.000000  2018.000000   360.000000\n"
     ]
    }
   ],
   "source": [
    "# Get summary statistics of the DataFrame\n",
    "print(df.describe())"
   ]
  },
  {
   "attachments": {},
   "cell_type": "markdown",
   "metadata": {},
   "source": [
    "Gathering info on all people in the csv file and giving the max, min, mean and percentiles for weight in lbs."
   ]
  }
 ],
 "metadata": {
  "kernelspec": {
   "display_name": "base",
   "language": "python",
   "name": "python3"
  },
  "language_info": {
   "codemirror_mode": {
    "name": "ipython",
    "version": 3
   },
   "file_extension": ".py",
   "mimetype": "text/x-python",
   "name": "python",
   "nbconvert_exporter": "python",
   "pygments_lexer": "ipython3",
   "version": "3.9.12"
  },
  "orig_nbformat": 4
 },
 "nbformat": 4,
 "nbformat_minor": 2
}
