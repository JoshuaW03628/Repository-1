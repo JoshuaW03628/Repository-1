{
 "cells": [
  {
   "attachments": {},
   "cell_type": "markdown",
   "metadata": {},
   "source": [
    "# 2.3 Lesson\n",
    "> 2.3 Lesson\n",
    "\n",
    "- Title 2.3 Lesson\n",
    "- badges: false\n",
    "- branch: master\n",
    "- comments: true\n",
    "- categories: [Notebooks]"
   ]
  },
  {
   "cell_type": "code",
   "execution_count": null,
   "metadata": {},
   "outputs": [],
   "source": []
  }
 ],
 "metadata": {
  "language_info": {
   "name": "python"
  },
  "orig_nbformat": 4
 },
 "nbformat": 4,
 "nbformat_minor": 2
}
