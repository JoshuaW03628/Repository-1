{
 "cells": [
  {
   "attachments": {},
   "cell_type": "markdown",
   "metadata": {},
   "source": [
    "# 2.2 & 2.3 Hacks"
   ]
  },
  {
   "attachments": {},
   "cell_type": "markdown",
   "metadata": {},
   "source": [
    "Here's an implementation of manipulating pixels in an image to produce red and blue scale versions (2.2):"
   ]
  },
  {
   "cell_type": "code",
   "execution_count": null,
   "metadata": {},
   "outputs": [],
   "source": [
    "import numpy as np\n",
    "from PIL import Image as pilImage\n",
    "from io import BytesIO\n",
    "import base64\n",
    "from IPython.display import HTML, display\n",
    "\n",
    "# Load image\n",
    "img = pilImage.open(\"images/clouds-impression.png\")\n",
    "\n",
    "# Convert image to numpy array\n",
    "img_array = np.array(img)\n",
    "\n",
    "# Create red and blue scale versions of image\n",
    "red_scale = img_array.copy()\n",
    "red_scale[:, :, 1] = 0  # set green channel to 0\n",
    "red_scale[:, :, 2] = 0  # set blue channel to 0\n",
    "\n",
    "blue_scale = img_array.copy()\n",
    "blue_scale[:, :, 0] = 0  # set red channel to 0\n",
    "blue_scale[:, :, 1] = 0  # set green channel to 0\n",
    "\n",
    "# Convert numpy arrays back to images\n",
    "red_scale_img = pilImage.fromarray(red_scale)\n",
    "blue_scale_img = pilImage.fromarray(blue_scale)\n",
    "\n",
    "# Convert images to base64 for display\n",
    "def image_to_base64(img, format):\n",
    "    with BytesIO() as buffer:\n",
    "        img.save(buffer, format)\n",
    "        return base64.b64encode(buffer.getvalue()).decode()\n",
    "\n",
    "red_scale_html = '<img src=\"data:image/png;base64,%s\">' % image_to_base64(red_scale_img, img.format)\n",
    "blue_scale_html = '<img src=\"data:image/png;base64,%s\">' % image_to_base64(blue_scale_img, img.format)\n",
    "\n",
    "# Display images\n",
    "display(HTML(red_scale_html))\n",
    "display(HTML(blue_scale_html))"
   ]
  },
  {
   "attachments": {},
   "cell_type": "markdown",
   "metadata": {},
   "source": [
    "# 2.3 Hacks"
   ]
  },
  {
   "cell_type": "code",
   "execution_count": null,
   "metadata": {},
   "outputs": [],
   "source": [
    "import pandas as pd\n",
    "\n",
    "# load the data\n",
    "seasons_stats_df = pd.read_csv('/Users/josh/Downloads/archive/Seasons_Stats.csv')\n",
    "\n",
    "# filter data for all games played by the Los Angeles Lakers in the current season\n",
    "current_season = str(pd.Timestamp.now().year - 1) + \"-\" + str(pd.Timestamp.now().year)[2:]\n",
    "lakers_current_season = seasons_stats_df[(seasons_stats_df['Tm'] == 'LAL') & (seasons_stats_df['Season'] == current_season)]\n",
    "\n",
    "# group the data by player and calculate the total points scored and rebounds for each player\n",
    "lakers_totals = lakers_current_season.groupby('Player').agg({'PTS': 'sum', 'TRB': 'sum'})\n",
    "\n",
    "# calculate the efficiency score for each player\n",
    "lakers_totals['Efficiency'] = lakers_totals['PTS'] + lakers_totals['TRB']\n",
    "\n",
    "# sort the players by efficiency score\n",
    "lakers_totals = lakers_totals.sort_values(by='Efficiency', ascending=False)\n",
    "\n",
    "# output the top 10 players\n",
    "print(lakers_totals.head(10))"
   ]
  }
 ],
 "metadata": {
  "kernelspec": {
   "display_name": "base",
   "language": "python",
   "name": "python3"
  },
  "language_info": {
   "codemirror_mode": {
    "name": "ipython",
    "version": 3
   },
   "file_extension": ".py",
   "mimetype": "text/x-python",
   "name": "python",
   "nbconvert_exporter": "python",
   "pygments_lexer": "ipython3",
   "version": "3.9.12"
  },
  "orig_nbformat": 4
 },
 "nbformat": 4,
 "nbformat_minor": 2
}
