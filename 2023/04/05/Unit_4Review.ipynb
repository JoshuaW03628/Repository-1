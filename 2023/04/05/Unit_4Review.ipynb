{
 "cells": [
  {
   "attachments": {},
   "cell_type": "markdown",
   "metadata": {},
   "source": [
    "---\n",
    "toc: false\n",
    "layout: base\n",
    "description: my score on the 2018 mcq practice test.\n",
    "categories: [Posts]\n",
    "title: MCQ practice test corrections\n",
    "---"
   ]
  },
  {
   "attachments": {},
   "cell_type": "markdown",
   "metadata": {},
   "source": [
    "# 4-1: The Internet\n",
    "\n",
    "### How computers send and receive information using computer systems, computer networks, and packets.\n",
    "\n",
    "Sure! When computers send and receive information, they do so using computer systems, computer networks, and packets.\n",
    "\n",
    "A computer system is a collection of hardware and software that work together to perform tasks. This can include everything from the physical components of a computer (such as the CPU, RAM, and hard drive) to the operating system and application software.\n",
    "\n",
    "When computers are connected together, they form a computer network. A computer network allows multiple computers to communicate and share resources with each other. This can be done using various types of network hardware, such as routers, switches, and modems.\n",
    "\n",
    "When a computer wants to send information over a network, it breaks the information down into smaller pieces called packets. Each packet contains a portion of the original data, as well as information about where the packet came from and where it is going.\n",
    "\n",
    "The packets are then sent over the network to the destination computer. As they travel across the network, they may pass through multiple routers and switches. Each of these devices reads the information in the packet to determine where to send it next.\n",
    "\n",
    "When the packets arrive at their destination computer, they are reassembled into the original data. This is done by using the information in the packet headers to put the packets back in the correct order.\n",
    "\n",
    "Overall, this process of sending and receiving information using computer systems, computer networks, and packets is a complex one. However, it is essential for modern communication and data exchange, allowing people and organizations to connect and share information quickly and efficiently.\n",
    "\n",
    "\n",
    "### How computer systems and networks facilitate the transfer of data.\n",
    "\n",
    "Encoding and decoding: When data is transferred between computer systems, it is often encoded in a particular format to ensure that it can be understood by the receiving system. Similarly, when data is received, it needs to be decoded so that it can be used by the receiving system.\n",
    "\n",
    "Protocols: Computer networks use a set of protocols that define how data is transferred between systems. These protocols include things like TCP/IP, HTTP, FTP, and SMTP, among others. These protocols specify how data is formatted, transmitted, and received."
   ]
  },
  {
   "attachments": {},
   "cell_type": "markdown",
   "metadata": {},
   "source": [
    "# 4-2 Fault Tolerance"
   ]
  },
  {
   "attachments": {},
   "cell_type": "markdown",
   "metadata": {},
   "source": [
    "Fault tolerance is the ability of a system or process to continue functioning even in the face of faults or errors. In other words, a fault-tolerant system is designed to withstand and recover from hardware or software failures without causing the entire system to fail.\n",
    "\n",
    "This is typically achieved by incorporating redundancy into the system, where multiple components are used to perform the same function so that if one component fails, the others can take over. For example, in a redundant power supply system, if one power supply unit fails, another one can take over and provide power to the system.\n",
    "\n",
    "Fault tolerance can also be achieved through error detection and correction mechanisms. For example, in a communication system, error correction codes can be used to detect and correct errors that occur during transmission.\n",
    "\n",
    "Fault tolerance is important in many critical systems, such as aerospace, healthcare, and financial systems, where system failure can have serious consequences. By designing systems to be fault-tolerant, organizations can minimize the risk of system failure and ensure that critical processes and functions continue to operate smoothly."
   ]
  },
  {
   "attachments": {},
   "cell_type": "markdown",
   "metadata": {},
   "source": [
    "# 4-3 Parallel and Distributed Computing"
   ]
  },
  {
   "attachments": {},
   "cell_type": "markdown",
   "metadata": {},
   "source": [
    "Parallel computing involves breaking down a single task into smaller subtasks that can be processed simultaneously on multiple processors or cores within a single machine. This approach is particularly useful for tasks that can be easily divided into smaller, independent pieces, such as scientific simulations, image processing, and data analysis. Parallel computing can significantly reduce the time required to complete these tasks and is often used in high-performance computing (HPC) applications.\n",
    "\n",
    "Distributed computing, on the other hand, involves the use of multiple machines connected by a network to work together on a single task. In this approach, the task is broken down into smaller subtasks that are assigned to different machines, which then work together to complete the task. Distributed computing is particularly useful for tasks that require a large amount of data processing or storage, such as web search, big data analytics, and cloud computing.\n",
    "\n",
    "Both parallel and distributed computing can provide significant performance improvements over traditional sequential computing, but each approach has its own strengths and weaknesses. Parallel computing can be more efficient and scalable within a single machine, but it can be limited by the number of processors or cores available. Distributed computing can scale to a large number of machines, but it can be limited by the network bandwidth and latency."
   ]
  }
 ],
 "metadata": {
  "language_info": {
   "name": "python"
  },
  "orig_nbformat": 4
 },
 "nbformat": 4,
 "nbformat_minor": 2
}
